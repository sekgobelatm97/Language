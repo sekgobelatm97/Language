{
 "cells": [
  {
   "cell_type": "code",
   "execution_count": 2,
   "id": "c1fe4fec",
   "metadata": {},
   "outputs": [],
   "source": [
    "# Importing modules\n",
    "import pandas as pd\n",
    "import numpy as np\n",
    "import seaborn as sns\n",
    "import matplotlib.pyplot as plt\n",
    "import re\n",
    "\n",
    "# Ignore warnings\n",
    "import warnings\n",
    "warnings.filterwarnings('ignore')"
   ]
  },
  {
   "cell_type": "code",
   "execution_count": 3,
   "id": "f8f0cf45",
   "metadata": {},
   "outputs": [],
   "source": [
    "train_df = pd.read_csv('train_set.csv')\n",
    "test_df = pd.read_csv('test_set.csv')"
   ]
  },
  {
   "cell_type": "code",
   "execution_count": 4,
   "id": "eaca756a",
   "metadata": {},
   "outputs": [
    {
     "data": {
      "text/html": [
       "<div>\n",
       "<style scoped>\n",
       "    .dataframe tbody tr th:only-of-type {\n",
       "        vertical-align: middle;\n",
       "    }\n",
       "\n",
       "    .dataframe tbody tr th {\n",
       "        vertical-align: top;\n",
       "    }\n",
       "\n",
       "    .dataframe thead th {\n",
       "        text-align: right;\n",
       "    }\n",
       "</style>\n",
       "<table border=\"1\" class=\"dataframe\">\n",
       "  <thead>\n",
       "    <tr style=\"text-align: right;\">\n",
       "      <th></th>\n",
       "      <th>lang_id</th>\n",
       "      <th>text</th>\n",
       "    </tr>\n",
       "  </thead>\n",
       "  <tbody>\n",
       "    <tr>\n",
       "      <th>0</th>\n",
       "      <td>xho</td>\n",
       "      <td>umgaqo-siseko wenza amalungiselelo kumaziko ax...</td>\n",
       "    </tr>\n",
       "    <tr>\n",
       "      <th>1</th>\n",
       "      <td>xho</td>\n",
       "      <td>i-dha iya kuba nobulumko bokubeka umsebenzi na...</td>\n",
       "    </tr>\n",
       "    <tr>\n",
       "      <th>2</th>\n",
       "      <td>eng</td>\n",
       "      <td>the province of kwazulu-natal department of tr...</td>\n",
       "    </tr>\n",
       "    <tr>\n",
       "      <th>3</th>\n",
       "      <td>nso</td>\n",
       "      <td>o netefatša gore o ba file dilo ka moka tše le...</td>\n",
       "    </tr>\n",
       "    <tr>\n",
       "      <th>4</th>\n",
       "      <td>ven</td>\n",
       "      <td>khomishini ya ndinganyiso ya mbeu yo ewa maana...</td>\n",
       "    </tr>\n",
       "  </tbody>\n",
       "</table>\n",
       "</div>"
      ],
      "text/plain": [
       "  lang_id                                               text\n",
       "0     xho  umgaqo-siseko wenza amalungiselelo kumaziko ax...\n",
       "1     xho  i-dha iya kuba nobulumko bokubeka umsebenzi na...\n",
       "2     eng  the province of kwazulu-natal department of tr...\n",
       "3     nso  o netefatša gore o ba file dilo ka moka tše le...\n",
       "4     ven  khomishini ya ndinganyiso ya mbeu yo ewa maana..."
      ]
     },
     "execution_count": 4,
     "metadata": {},
     "output_type": "execute_result"
    }
   ],
   "source": [
    "train_df.head()"
   ]
  },
  {
   "cell_type": "markdown",
   "id": "822f7c2c",
   "metadata": {},
   "source": [
    "#### EDSA"
   ]
  },
  {
   "cell_type": "code",
   "execution_count": 5,
   "id": "8b8d8935",
   "metadata": {},
   "outputs": [
    {
     "data": {
      "text/plain": [
       "(33000, 2)"
      ]
     },
     "execution_count": 5,
     "metadata": {},
     "output_type": "execute_result"
    }
   ],
   "source": [
    "train_df.shape"
   ]
  },
  {
   "cell_type": "code",
   "execution_count": 6,
   "id": "2f66cf64",
   "metadata": {},
   "outputs": [
    {
     "name": "stdout",
     "output_type": "stream",
     "text": [
      "<class 'pandas.core.frame.DataFrame'>\n",
      "RangeIndex: 33000 entries, 0 to 32999\n",
      "Data columns (total 2 columns):\n",
      " #   Column   Non-Null Count  Dtype \n",
      "---  ------   --------------  ----- \n",
      " 0   lang_id  33000 non-null  object\n",
      " 1   text     33000 non-null  object\n",
      "dtypes: object(2)\n",
      "memory usage: 515.8+ KB\n"
     ]
    }
   ],
   "source": [
    "train_df.info()"
   ]
  },
  {
   "cell_type": "markdown",
   "id": "525d1642",
   "metadata": {},
   "source": [
    "The data has no null values, "
   ]
  },
  {
   "cell_type": "code",
   "execution_count": 7,
   "id": "3db12e80",
   "metadata": {},
   "outputs": [
    {
     "data": {
      "text/plain": [
       "array(['xho', 'eng', 'nso', 'ven', 'tsn', 'nbl', 'zul', 'ssw', 'tso',\n",
       "       'sot', 'afr'], dtype=object)"
      ]
     },
     "execution_count": 7,
     "metadata": {},
     "output_type": "execute_result"
    }
   ],
   "source": [
    "train_df['lang_id'].unique()"
   ]
  },
  {
   "cell_type": "markdown",
   "id": "95a026a2",
   "metadata": {},
   "source": [
    "The data has eleven language Id's, i.e. The data has eleven lanuages"
   ]
  },
  {
   "cell_type": "code",
   "execution_count": 8,
   "id": "3b40adfc",
   "metadata": {},
   "outputs": [
    {
     "name": "stdout",
     "output_type": "stream",
     "text": [
      "33000\n",
      "0\n"
     ]
    }
   ],
   "source": [
    "# Checking whether a character is white-space character or not\n",
    "print(len(train_df['text']))\n",
    "print(sum(train_df['text'].apply(lambda x: x.isspace())))"
   ]
  },
  {
   "cell_type": "code",
   "execution_count": 9,
   "id": "15987950",
   "metadata": {},
   "outputs": [
    {
     "data": {
      "text/plain": [
       "Text(0.5, 1.0, 'The lang_id count plot')"
      ]
     },
     "execution_count": 9,
     "metadata": {},
     "output_type": "execute_result"
    },
    {
     "data": {
      "image/png": "[encoded data removed]",
      "text/plain": [
       "<Figure size 432x288 with 1 Axes>"
      ]
     },
     "metadata": {
      "needs_background": "light"
     },
     "output_type": "display_data"
    }
   ],
   "source": [
    "ax = sns.countplot(x ='lang_id', data = train_df)\n",
    "ax.set_title('The lang_id count plot')\n"
   ]
  },
  {
   "cell_type": "markdown",
   "id": "e1cc7b02",
   "metadata": {},
   "source": [
    "From the plot above we observe that each language appeared 3000 times"
   ]
  },
  {
   "cell_type": "code",
   "execution_count": 10,
   "id": "7b4507fe",
   "metadata": {},
   "outputs": [
    {
     "data": {
      "text/plain": [
       "'the province of kwazulu-natal department of transport invites tenders from established contractors experienced in bridge construction for the construction of the kwajolwayo tugela river pedestrian bridge near tugela ferry the duration of the project will be months'"
      ]
     },
     "execution_count": 10,
     "metadata": {},
     "output_type": "execute_result"
    }
   ],
   "source": [
    "train_df['text'][2]"
   ]
  },
  {
   "cell_type": "code",
   "execution_count": null,
   "id": "e818d3a9",
   "metadata": {},
   "outputs": [],
   "source": []
  },
  {
   "cell_type": "code",
   "execution_count": 11,
   "id": "1827dd34",
   "metadata": {},
   "outputs": [
    {
     "name": "stdout",
     "output_type": "stream",
     "text": [
      "Languages {'nbl', 'afr', 'eng', 'sot', 'tsn', 'tso', 'nso', 'xho', 'zul', 'ven', 'ssw'}\n",
      "========\n",
      "English: the province of kwazulu-natal department of transport invites tenders from established contractors experienced in bridge construction for the construction of the kwajolwayo tugela river pedestrian bridge near tugela ferry the duration of the project will be months\n",
      "Xhosa: i-dha iya kuba nobulumko bokubeka umsebenzi naphi na kwisebe ngokusekwe kwiimfuno zokusebenza zalo emva kokubonana nomsebenzi kunye okanye imanyano yakhe ukuba ulandulo lomntu onjalo alufanelekanga i-dha mayibize uncedo olufanelekileyo elungelweni layo\n"
     ]
    }
   ],
   "source": [
    "# Languages\n",
    "languages = set(train_df['lang_id'])\n",
    "print('Languages', languages)\n",
    "print('========')\n",
    "# Examples of multiple langs taken from heads and tails\n",
    "print('English:', train_df['text'][2])\n",
    "\n",
    "print('Xhosa:', train_df['text'][1])"
   ]
  },
  {
   "cell_type": "markdown",
   "id": "145f8411",
   "metadata": {},
   "source": [
    "#### Creating Independent and Dependent features\n",
    "\n",
    "Because the language is dependent on the text utilized, the text is the independent feature in this case."
   ]
  },
  {
   "cell_type": "code",
   "execution_count": 12,
   "id": "9503702c",
   "metadata": {},
   "outputs": [],
   "source": [
    "X = train_df[\"text\"]\n",
    "y = train_df[\"lang_id\"]"
   ]
  },
  {
   "cell_type": "markdown",
   "id": "b6d4b509",
   "metadata": {},
   "source": [
    "The name of languages, the dependent variable, is a categorical variable. We'll need to convert it to a numerical form in order to train the model, therefore we'll use label encoding on that output variable."
   ]
  },
  {
   "cell_type": "code",
   "execution_count": 13,
   "id": "b3fa7b1c",
   "metadata": {},
   "outputs": [],
   "source": [
    "from sklearn.preprocessing import LabelEncoder\n",
    "Encoder = LabelEncoder()\n",
    "y = Encoder.fit_transform(y)"
   ]
  },
  {
   "cell_type": "markdown",
   "id": "7f6880aa",
   "metadata": {},
   "source": [
    "#### Data preprocessing"
   ]
  },
  {
   "cell_type": "code",
   "execution_count": 14,
   "id": "ab85dbc3",
   "metadata": {},
   "outputs": [],
   "source": [
    "# creating a list for appending the preprocessed text\n",
    "data_list = []\n",
    "# iterating through all the text\n",
    "for text in X:\n",
    "       # removing the symbols and numbers\n",
    "        text = re.sub(r'[!@#$(),n\"%^*?:;~`0-9]', ' ', text)\n",
    "        text = re.sub(r'[[]]', ' ', text)\n",
    "        # converting the text to lower case\n",
    "        text = text.lower()\n",
    "        # appending to data_list\n",
    "        data_list.append(text)"
   ]
  },
  {
   "cell_type": "markdown",
   "id": "e45c9eb4",
   "metadata": {},
   "source": [
    "#### Bag of Words\n",
    "As we already aware, the numerical form should be used for both the output and the input features. So, using CountVectorizer, we create a Bag of Words model to translate text into numerical form.."
   ]
  },
  {
   "cell_type": "code",
   "execution_count": 15,
   "id": "c178e87c",
   "metadata": {},
   "outputs": [
    {
     "data": {
      "text/plain": [
       "(33000, 105196)"
      ]
     },
     "execution_count": 15,
     "metadata": {},
     "output_type": "execute_result"
    }
   ],
   "source": [
    "from sklearn.feature_extraction.text import CountVectorizer\n",
    "cv = CountVectorizer()\n",
    "X = cv.fit_transform(data_list).toarray()\n",
    "X.shape"
   ]
  },
  {
   "cell_type": "markdown",
   "id": "f1e25588",
   "metadata": {},
   "source": [
    "#### Splitting the data into Train and test Sets"
   ]
  },
  {
   "cell_type": "code",
   "execution_count": 16,
   "id": "c547a49a",
   "metadata": {},
   "outputs": [],
   "source": [
    "from sklearn.model_selection import train_test_split\n",
    "x_train, x_test, y_train, y_test = train_test_split(X, y, test_size = 0.20)"
   ]
  },
  {
   "cell_type": "markdown",
   "id": "4eff3fdf",
   "metadata": {},
   "source": [
    "#### Building a Model\n",
    "\n",
    "We are using the naive_bayes algorithm for our model creation and we tarin the model using the training set we created "
   ]
  },
  {
   "cell_type": "code",
   "execution_count": 17,
   "id": "a25773fc",
   "metadata": {},
   "outputs": [
    {
     "data": {
      "text/plain": [
       "MultinomialNB()"
      ]
     },
     "execution_count": 17,
     "metadata": {},
     "output_type": "execute_result"
    }
   ],
   "source": [
    "from sklearn.naive_bayes import MultinomialNB\n",
    "model = MultinomialNB()\n",
    "model.fit(x_train, y_train)"
   ]
  },
  {
   "cell_type": "code",
   "execution_count": 18,
   "id": "fca55b76",
   "metadata": {},
   "outputs": [],
   "source": [
    "y_pred = model.predict(x_test)"
   ]
  },
  {
   "cell_type": "markdown",
   "id": "9e332369",
   "metadata": {},
   "source": [
    "#### Model Evaluation\n",
    "Any machine learning project must include a performance evaluation of the machine learning model that we constructed."
   ]
  },
  {
   "cell_type": "code",
   "execution_count": 19,
   "id": "eb40b721",
   "metadata": {},
   "outputs": [
    {
     "name": "stdout",
     "output_type": "stream",
     "text": [
      "Accuracy is : 0.9995454545454545\n"
     ]
    }
   ],
   "source": [
    "from sklearn.metrics import accuracy_score, confusion_matrix, classification_report\n",
    "ac = accuracy_score(y_test, y_pred)\n",
    "cm = confusion_matrix(y_test, y_pred)\n",
    "\n",
    "print(\"Accuracy is :\",ac)"
   ]
  },
  {
   "cell_type": "markdown",
   "id": "20c85b6c",
   "metadata": {},
   "source": [
    "The model's accuracy is 0.99, which is excellent, and our model is working well. Next we use the seaborn heatmap to plot the confusion matrix."
   ]
  },
  {
   "cell_type": "code",
   "execution_count": 20,
   "id": "1244e455",
   "metadata": {},
   "outputs": [
    {
     "data": {
      "image/png": "[encoded data removed]",
      "text/plain": [
       "<Figure size 1080x720 with 2 Axes>"
      ]
     },
     "metadata": {
      "needs_background": "light"
     },
     "output_type": "display_data"
    }
   ],
   "source": [
    "plt.figure(figsize=(15,10))\n",
    "sns.heatmap(cm, annot = True)\n",
    "plt.show()"
   ]
  },
  {
   "cell_type": "code",
   "execution_count": 25,
   "id": "e822c934",
   "metadata": {},
   "outputs": [],
   "source": [
    "X_t = train_df[\"text\"]\n",
    "y_t = train_df[\"lang_id\"]"
   ]
  },
  {
   "cell_type": "code",
   "execution_count": 26,
   "id": "b068c933",
   "metadata": {},
   "outputs": [],
   "source": [
    "# creating a list for appending the preprocessed text\n",
    "data_list = []\n",
    "# iterating through all the text\n",
    "for text in X_t:\n",
    "       # removing the symbols and numbers\n",
    "        text = re.sub(r'[!@#$(),n\"%^*?:;~`0-9]', ' ', text)\n",
    "        text = re.sub(r'[[]]', ' ', text)\n",
    "        # converting the text to lower case\n",
    "        text = text.lower()\n",
    "        # appending to data_list\n",
    "        data_list.append(text)"
   ]
  },
  {
   "cell_type": "code",
   "execution_count": 30,
   "id": "b7777b05",
   "metadata": {},
   "outputs": [],
   "source": [
    "def predict(text):\n",
    "     x = cv.transform([text]).toarray() # converting text to bag of words model (Vector)\n",
    "     lang = model.predict(x) # predicting the language\n",
    "     lang = Encoder.inverse_transform(lang) # finding the language corresponding the the predicted value\n",
    "     print(\"The langauge is in\",lang[0]) # printing the language"
   ]
  },
  {
   "cell_type": "code",
   "execution_count": 31,
   "id": "c2dd2b37",
   "metadata": {},
   "outputs": [
    {
     "data": {
      "text/plain": [
       "0    Mmasepala, fa maemo a a kgethegileng a letlele...\n",
       "1    Uzakwaziswa ngokufaneleko nakungafuneka eminye...\n",
       "2           Tshivhumbeo tshi fana na ngano dza vhathu.\n",
       "3    Kube inja nelikati betingevakala kutsi titsini...\n",
       "4                        Winste op buitelandse valuta.\n",
       "Name: text, dtype: object"
      ]
     },
     "execution_count": 31,
     "metadata": {},
     "output_type": "execute_result"
    }
   ],
   "source": [
    "test_df.text.head()"
   ]
  },
  {
   "cell_type": "code",
   "execution_count": 32,
   "id": "4e4f5c6f",
   "metadata": {},
   "outputs": [
    {
     "data": {
      "text/plain": [
       "5677                     You mark your ballot in private.\n",
       "5678    Ge o ka kgetha ka bowena go se šomiše Mofani k...\n",
       "5679    E Ka kopo etsa kgetho ya hao ka hloko, hobane ...\n",
       "5680    TB ke bokudi ba PMB, mme Morero o tla lefella ...\n",
       "5681                Vakatjhela iwebhusayidi yethu ku-www.\n",
       "Name: text, dtype: object"
      ]
     },
     "execution_count": 32,
     "metadata": {},
     "output_type": "execute_result"
    }
   ],
   "source": [
    "test_df.text.tail()"
   ]
  },
  {
   "cell_type": "code",
   "execution_count": 33,
   "id": "d177896c",
   "metadata": {},
   "outputs": [
    {
     "name": "stdout",
     "output_type": "stream",
     "text": [
      "The langauge is in sot\n"
     ]
    }
   ],
   "source": [
    "predict(text)"
   ]
  },
  {
   "cell_type": "code",
   "execution_count": 34,
   "id": "a00a3707",
   "metadata": {},
   "outputs": [
    {
     "name": "stdout",
     "output_type": "stream",
     "text": [
      "The langauge is in nbl\n"
     ]
    }
   ],
   "source": [
    "predict('Uzakwaziswa ngokufaneleko nakungafuneka eminye')"
   ]
  },
  {
   "cell_type": "code",
   "execution_count": 35,
   "id": "b0c5288d",
   "metadata": {},
   "outputs": [
    {
     "name": "stdout",
     "output_type": "stream",
     "text": [
      "The langauge is in sot\n"
     ]
    }
   ],
   "source": [
    "predict('E Ka kopo etsa kgetho ya hao ka hloko')"
   ]
  },
  {
   "cell_type": "code",
   "execution_count": 36,
   "id": "ab0f9915",
   "metadata": {},
   "outputs": [
    {
     "name": "stdout",
     "output_type": "stream",
     "text": [
      "The langauge is in ven\n"
     ]
    }
   ],
   "source": [
    "predict('Tshivhumbeo tshi fana na ngano dza vhathu')"
   ]
  },
  {
   "cell_type": "code",
   "execution_count": 37,
   "id": "5a35e25a",
   "metadata": {},
   "outputs": [
    {
     "name": "stdout",
     "output_type": "stream",
     "text": [
      "The langauge is in eng\n"
     ]
    }
   ],
   "source": [
    "predict('You mark your ballot in private')"
   ]
  },
  {
   "cell_type": "code",
   "execution_count": 38,
   "id": "2e110245",
   "metadata": {},
   "outputs": [
    {
     "name": "stdout",
     "output_type": "stream",
     "text": [
      "The langauge is in ssw\n"
     ]
    }
   ],
   "source": [
    "predict('Kube inja nelikati betingevakala kutsi')"
   ]
  },
  {
   "cell_type": "code",
   "execution_count": 39,
   "id": "a5be2475",
   "metadata": {},
   "outputs": [
    {
     "name": "stdout",
     "output_type": "stream",
     "text": [
      "The langauge is in nso\n"
     ]
    }
   ],
   "source": [
    "predict('Ge o ka kgetha ka bowena go se šomiše Mofani')"
   ]
  },
  {
   "cell_type": "code",
   "execution_count": 40,
   "id": "623e2840",
   "metadata": {},
   "outputs": [
    {
     "name": "stdout",
     "output_type": "stream",
     "text": [
      "The langauge is in ssw\n"
     ]
    }
   ],
   "source": [
    "predict('Kube inja nelikati betingevakala kutsi')"
   ]
  },
  {
   "cell_type": "code",
   "execution_count": 41,
   "id": "4749fa30",
   "metadata": {},
   "outputs": [
    {
     "name": "stdout",
     "output_type": "stream",
     "text": [
      "The langauge is in ssw\n"
     ]
    }
   ],
   "source": [
    "predict('Kube inja nelikati betingevakala kutsi')"
   ]
  },
  {
   "cell_type": "code",
   "execution_count": null,
   "id": "f7d5c8b0",
   "metadata": {},
   "outputs": [],
   "source": []
  }
 ],
 "metadata": {
  "kernelspec": {
   "display_name": "Python 3",
   "language": "python",
   "name": "python3"
  },
  "language_info": {
   "codemirror_mode": {
    "name": "ipython",
    "version": 3
   },
   "file_extension": ".py",
   "mimetype": "text/x-python",
   "name": "python",
   "nbconvert_exporter": "python",
   "pygments_lexer": "ipython3",
   "version": "3.8.8"
  }
 },
 "nbformat": 4,
 "nbformat_minor": 5
}
